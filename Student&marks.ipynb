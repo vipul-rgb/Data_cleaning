{
 "cells": [
  {
   "cell_type": "code",
   "execution_count": 1,
   "id": "2e256b5a-da9b-4a2e-86e7-d865ae134af8",
   "metadata": {},
   "outputs": [],
   "source": [
    "import pandas as pd\n",
    "import numpy as np\n",
    "import seaborn as sns\n",
    "import matplotlib.pyplot as plt\n",
    "import warnings\n",
    "warnings.filterwarnings('ignore')"
   ]
  },
  {
   "cell_type": "code",
   "execution_count": 2,
   "id": "73aafea5-3288-4277-800f-06616821f338",
   "metadata": {},
   "outputs": [],
   "source": [
    "df=pd.read_csv(\"H:\\\\csv files and power bi\\\\Kaggle dataset for practice\\\\Impact_of_Mobile_Phone_on_Students_Health.csv\")"
   ]
  },
  {
   "cell_type": "code",
   "execution_count": 3,
   "id": "fb925de9-dd5e-4d9e-b9ad-754f856d2cb8",
   "metadata": {},
   "outputs": [
    {
     "data": {
      "text/html": [
       "<div>\n",
       "<style scoped>\n",
       "    .dataframe tbody tr th:only-of-type {\n",
       "        vertical-align: middle;\n",
       "    }\n",
       "\n",
       "    .dataframe tbody tr th {\n",
       "        vertical-align: top;\n",
       "    }\n",
       "\n",
       "    .dataframe thead th {\n",
       "        text-align: right;\n",
       "    }\n",
       "</style>\n",
       "<table border=\"1\" class=\"dataframe\">\n",
       "  <thead>\n",
       "    <tr style=\"text-align: right;\">\n",
       "      <th></th>\n",
       "      <th>Names</th>\n",
       "      <th>Age</th>\n",
       "      <th>Gender</th>\n",
       "      <th>Mobile Phone</th>\n",
       "      <th>Mobile Operating System</th>\n",
       "      <th>Mobile phone use for education</th>\n",
       "      <th>Mobile phone activities</th>\n",
       "      <th>Helpful for studying</th>\n",
       "      <th>Educational Apps</th>\n",
       "      <th>Daily usages</th>\n",
       "      <th>Performance impact</th>\n",
       "      <th>Usage distraction</th>\n",
       "      <th>Attention span</th>\n",
       "      <th>Useful features</th>\n",
       "      <th>Health Risks</th>\n",
       "      <th>Beneficial subject</th>\n",
       "      <th>Usage symptoms</th>\n",
       "      <th>Symptom frequency</th>\n",
       "      <th>Health precautions</th>\n",
       "      <th>Health rating</th>\n",
       "    </tr>\n",
       "  </thead>\n",
       "  <tbody>\n",
       "    <tr>\n",
       "      <th>0</th>\n",
       "      <td>Ali</td>\n",
       "      <td>21-25</td>\n",
       "      <td>Male</td>\n",
       "      <td>Yes</td>\n",
       "      <td>Android</td>\n",
       "      <td>Sometimes</td>\n",
       "      <td>Social Media</td>\n",
       "      <td>Yes</td>\n",
       "      <td>Educational Videos</td>\n",
       "      <td>4-6 hours</td>\n",
       "      <td>Agree</td>\n",
       "      <td>During Exams</td>\n",
       "      <td>Yes</td>\n",
       "      <td>Camera</td>\n",
       "      <td>Yes</td>\n",
       "      <td>Accounting</td>\n",
       "      <td>Headache</td>\n",
       "      <td>Never</td>\n",
       "      <td>Using Blue light filter</td>\n",
       "      <td>Excellent</td>\n",
       "    </tr>\n",
       "    <tr>\n",
       "      <th>1</th>\n",
       "      <td>Bilal</td>\n",
       "      <td>21-25</td>\n",
       "      <td>Male</td>\n",
       "      <td>Yes</td>\n",
       "      <td>Android</td>\n",
       "      <td>Sometimes</td>\n",
       "      <td>Social Media</td>\n",
       "      <td>Yes</td>\n",
       "      <td>Educational Videos</td>\n",
       "      <td>4-6 hours</td>\n",
       "      <td>Neutral</td>\n",
       "      <td>During Exams</td>\n",
       "      <td>Yes</td>\n",
       "      <td>Notes Taking App</td>\n",
       "      <td>Yes</td>\n",
       "      <td>Browsing Material</td>\n",
       "      <td>All of these</td>\n",
       "      <td>Sometimes</td>\n",
       "      <td>Taking Break during prolonged use</td>\n",
       "      <td>Good</td>\n",
       "    </tr>\n",
       "    <tr>\n",
       "      <th>2</th>\n",
       "      <td>Hammad</td>\n",
       "      <td>21-25</td>\n",
       "      <td>Male</td>\n",
       "      <td>Yes</td>\n",
       "      <td>IOS</td>\n",
       "      <td>Sometimes</td>\n",
       "      <td>All of these</td>\n",
       "      <td>Yes</td>\n",
       "      <td>Educational Videos</td>\n",
       "      <td>4-6 hours</td>\n",
       "      <td>Strongly agree</td>\n",
       "      <td>Not Distracting</td>\n",
       "      <td>No</td>\n",
       "      <td>Camera</td>\n",
       "      <td>Yes</td>\n",
       "      <td>Browsing Material</td>\n",
       "      <td>All of these</td>\n",
       "      <td>Sometimes</td>\n",
       "      <td>None of Above</td>\n",
       "      <td>Excellent</td>\n",
       "    </tr>\n",
       "    <tr>\n",
       "      <th>3</th>\n",
       "      <td>Abdullah</td>\n",
       "      <td>21-25</td>\n",
       "      <td>Male</td>\n",
       "      <td>Yes</td>\n",
       "      <td>Android</td>\n",
       "      <td>Frequently</td>\n",
       "      <td>All of these</td>\n",
       "      <td>Yes</td>\n",
       "      <td>Educational Videos</td>\n",
       "      <td>2-4 hours</td>\n",
       "      <td>Strongly agree</td>\n",
       "      <td>During Class Lectures</td>\n",
       "      <td>No</td>\n",
       "      <td>Internet Access</td>\n",
       "      <td>Only Partially</td>\n",
       "      <td>Reasarch</td>\n",
       "      <td>NaN</td>\n",
       "      <td>Never</td>\n",
       "      <td>Limiting Screen Time</td>\n",
       "      <td>Excellent</td>\n",
       "    </tr>\n",
       "    <tr>\n",
       "      <th>4</th>\n",
       "      <td>Waqar</td>\n",
       "      <td>21-25</td>\n",
       "      <td>Male</td>\n",
       "      <td>Yes</td>\n",
       "      <td>IOS</td>\n",
       "      <td>Frequently</td>\n",
       "      <td>All of these</td>\n",
       "      <td>Yes</td>\n",
       "      <td>Educational Videos</td>\n",
       "      <td>&gt; 6 hours</td>\n",
       "      <td>Agree</td>\n",
       "      <td>While Studying</td>\n",
       "      <td>Yes</td>\n",
       "      <td>Internet Access</td>\n",
       "      <td>No</td>\n",
       "      <td>Browsing Material</td>\n",
       "      <td>Sleep disturbance</td>\n",
       "      <td>Sometimes</td>\n",
       "      <td>None of Above</td>\n",
       "      <td>Excellent</td>\n",
       "    </tr>\n",
       "    <tr>\n",
       "      <th>...</th>\n",
       "      <td>...</td>\n",
       "      <td>...</td>\n",
       "      <td>...</td>\n",
       "      <td>...</td>\n",
       "      <td>...</td>\n",
       "      <td>...</td>\n",
       "      <td>...</td>\n",
       "      <td>...</td>\n",
       "      <td>...</td>\n",
       "      <td>...</td>\n",
       "      <td>...</td>\n",
       "      <td>...</td>\n",
       "      <td>...</td>\n",
       "      <td>...</td>\n",
       "      <td>...</td>\n",
       "      <td>...</td>\n",
       "      <td>...</td>\n",
       "      <td>...</td>\n",
       "      <td>...</td>\n",
       "      <td>...</td>\n",
       "    </tr>\n",
       "    <tr>\n",
       "      <th>95</th>\n",
       "      <td>Zahoor</td>\n",
       "      <td>21-25</td>\n",
       "      <td>Male</td>\n",
       "      <td>Yes</td>\n",
       "      <td>IOS</td>\n",
       "      <td>Sometimes</td>\n",
       "      <td>All of these</td>\n",
       "      <td>Yes</td>\n",
       "      <td>Educational Videos</td>\n",
       "      <td>&gt; 6 hours</td>\n",
       "      <td>Agree</td>\n",
       "      <td>During Exams</td>\n",
       "      <td>Yes</td>\n",
       "      <td>Internet Access</td>\n",
       "      <td>Yes</td>\n",
       "      <td>Reasarch</td>\n",
       "      <td>Headache</td>\n",
       "      <td>Sometimes</td>\n",
       "      <td>Taking Break during prolonged use</td>\n",
       "      <td>Excellent</td>\n",
       "    </tr>\n",
       "    <tr>\n",
       "      <th>96</th>\n",
       "      <td>Hafeez</td>\n",
       "      <td>16-20</td>\n",
       "      <td>Male</td>\n",
       "      <td>Yes</td>\n",
       "      <td>Android</td>\n",
       "      <td>Sometimes</td>\n",
       "      <td>Social Media</td>\n",
       "      <td>Yes</td>\n",
       "      <td>Educational Videos</td>\n",
       "      <td>4-6 hours</td>\n",
       "      <td>Strongly agree</td>\n",
       "      <td>During Class Lectures</td>\n",
       "      <td>No</td>\n",
       "      <td>Notes Taking App</td>\n",
       "      <td>No</td>\n",
       "      <td>Reasarch</td>\n",
       "      <td>Anxiety or Stress</td>\n",
       "      <td>Sometimes</td>\n",
       "      <td>Taking Break during prolonged use</td>\n",
       "      <td>Good</td>\n",
       "    </tr>\n",
       "    <tr>\n",
       "      <th>97</th>\n",
       "      <td>Babar</td>\n",
       "      <td>16-20</td>\n",
       "      <td>Male</td>\n",
       "      <td>Yes</td>\n",
       "      <td>Android</td>\n",
       "      <td>Sometimes</td>\n",
       "      <td>All of these</td>\n",
       "      <td>Yes</td>\n",
       "      <td>Educational Videos</td>\n",
       "      <td>2-4 hours</td>\n",
       "      <td>Agree</td>\n",
       "      <td>While Studying</td>\n",
       "      <td>No</td>\n",
       "      <td>Internet Access</td>\n",
       "      <td>No</td>\n",
       "      <td>Reasarch</td>\n",
       "      <td>Headache</td>\n",
       "      <td>Never</td>\n",
       "      <td>Limiting Screen Time</td>\n",
       "      <td>Excellent</td>\n",
       "    </tr>\n",
       "    <tr>\n",
       "      <th>98</th>\n",
       "      <td>Rizwan</td>\n",
       "      <td>16-20</td>\n",
       "      <td>Male</td>\n",
       "      <td>Yes</td>\n",
       "      <td>Android</td>\n",
       "      <td>Sometimes</td>\n",
       "      <td>All of these</td>\n",
       "      <td>Yes</td>\n",
       "      <td>Educational Videos</td>\n",
       "      <td>4-6 hours</td>\n",
       "      <td>Agree</td>\n",
       "      <td>During Exams</td>\n",
       "      <td>No</td>\n",
       "      <td>Internet Access</td>\n",
       "      <td>Yes</td>\n",
       "      <td>Reasarch</td>\n",
       "      <td>Headache</td>\n",
       "      <td>Rarely</td>\n",
       "      <td>Limiting Screen Time</td>\n",
       "      <td>Excellent;Good</td>\n",
       "    </tr>\n",
       "    <tr>\n",
       "      <th>99</th>\n",
       "      <td>Lubna</td>\n",
       "      <td>21-25</td>\n",
       "      <td>Female</td>\n",
       "      <td>Yes</td>\n",
       "      <td>Android</td>\n",
       "      <td>Sometimes</td>\n",
       "      <td>Social Media</td>\n",
       "      <td>Yes</td>\n",
       "      <td>Study Planner</td>\n",
       "      <td>4-6 hours</td>\n",
       "      <td>Neutral</td>\n",
       "      <td>During Exams</td>\n",
       "      <td>Yes</td>\n",
       "      <td>Internet Access</td>\n",
       "      <td>Only Partially</td>\n",
       "      <td>Browsing Material</td>\n",
       "      <td>Sleep disturbance</td>\n",
       "      <td>Sometimes</td>\n",
       "      <td>Limiting Screen Time</td>\n",
       "      <td>Excellent</td>\n",
       "    </tr>\n",
       "  </tbody>\n",
       "</table>\n",
       "<p>100 rows × 20 columns</p>\n",
       "</div>"
      ],
      "text/plain": [
       "       Names    Age Gender  Mobile Phone  Mobile Operating System   \\\n",
       "0        Ali  21-25    Male           Yes                  Android   \n",
       "1      Bilal  21-25    Male           Yes                  Android   \n",
       "2     Hammad  21-25    Male           Yes                      IOS   \n",
       "3   Abdullah  21-25    Male           Yes                  Android   \n",
       "4      Waqar  21-25    Male           Yes                      IOS   \n",
       "..       ...    ...     ...           ...                      ...   \n",
       "95    Zahoor  21-25    Male           Yes                      IOS   \n",
       "96    Hafeez  16-20    Male           Yes                  Android   \n",
       "97     Babar  16-20    Male           Yes                  Android   \n",
       "98    Rizwan  16-20    Male           Yes                  Android   \n",
       "99     Lubna  21-25  Female           Yes                  Android   \n",
       "\n",
       "   Mobile phone use for education Mobile phone activities  \\\n",
       "0                       Sometimes            Social Media   \n",
       "1                       Sometimes            Social Media   \n",
       "2                       Sometimes            All of these   \n",
       "3                      Frequently            All of these   \n",
       "4                      Frequently            All of these   \n",
       "..                            ...                     ...   \n",
       "95                      Sometimes            All of these   \n",
       "96                      Sometimes            Social Media   \n",
       "97                      Sometimes            All of these   \n",
       "98                      Sometimes            All of these   \n",
       "99                      Sometimes            Social Media   \n",
       "\n",
       "   Helpful for studying    Educational Apps Daily usages Performance impact  \\\n",
       "0                   Yes  Educational Videos    4-6 hours              Agree   \n",
       "1                   Yes  Educational Videos    4-6 hours            Neutral   \n",
       "2                   Yes  Educational Videos    4-6 hours     Strongly agree   \n",
       "3                   Yes  Educational Videos    2-4 hours     Strongly agree   \n",
       "4                   Yes  Educational Videos    > 6 hours              Agree   \n",
       "..                  ...                 ...          ...                ...   \n",
       "95                  Yes  Educational Videos    > 6 hours              Agree   \n",
       "96                  Yes  Educational Videos    4-6 hours     Strongly agree   \n",
       "97                  Yes  Educational Videos    2-4 hours              Agree   \n",
       "98                  Yes  Educational Videos    4-6 hours              Agree   \n",
       "99                  Yes       Study Planner    4-6 hours            Neutral   \n",
       "\n",
       "        Usage distraction Attention span   Useful features    Health Risks  \\\n",
       "0            During Exams            Yes            Camera             Yes   \n",
       "1            During Exams            Yes  Notes Taking App             Yes   \n",
       "2         Not Distracting             No            Camera             Yes   \n",
       "3   During Class Lectures             No   Internet Access  Only Partially   \n",
       "4          While Studying            Yes   Internet Access              No   \n",
       "..                    ...            ...               ...             ...   \n",
       "95           During Exams            Yes   Internet Access             Yes   \n",
       "96  During Class Lectures             No  Notes Taking App              No   \n",
       "97         While Studying             No   Internet Access              No   \n",
       "98           During Exams             No   Internet Access             Yes   \n",
       "99           During Exams            Yes   Internet Access  Only Partially   \n",
       "\n",
       "   Beneficial subject     Usage symptoms Symptom frequency  \\\n",
       "0          Accounting           Headache             Never   \n",
       "1   Browsing Material       All of these         Sometimes   \n",
       "2   Browsing Material       All of these         Sometimes   \n",
       "3            Reasarch                NaN             Never   \n",
       "4   Browsing Material  Sleep disturbance         Sometimes   \n",
       "..                ...                ...               ...   \n",
       "95           Reasarch           Headache         Sometimes   \n",
       "96           Reasarch  Anxiety or Stress         Sometimes   \n",
       "97           Reasarch           Headache             Never   \n",
       "98           Reasarch           Headache            Rarely   \n",
       "99  Browsing Material  Sleep disturbance         Sometimes   \n",
       "\n",
       "                   Health precautions   Health rating  \n",
       "0             Using Blue light filter       Excellent  \n",
       "1   Taking Break during prolonged use            Good  \n",
       "2                       None of Above       Excellent  \n",
       "3                Limiting Screen Time       Excellent  \n",
       "4                       None of Above       Excellent  \n",
       "..                                ...             ...  \n",
       "95  Taking Break during prolonged use       Excellent  \n",
       "96  Taking Break during prolonged use            Good  \n",
       "97               Limiting Screen Time       Excellent  \n",
       "98               Limiting Screen Time  Excellent;Good  \n",
       "99               Limiting Screen Time       Excellent  \n",
       "\n",
       "[100 rows x 20 columns]"
      ]
     },
     "execution_count": 3,
     "metadata": {},
     "output_type": "execute_result"
    }
   ],
   "source": [
    "df"
   ]
  },
  {
   "cell_type": "code",
   "execution_count": 4,
   "id": "5b4970a1-abf9-4c88-a03a-0ecbff437d83",
   "metadata": {},
   "outputs": [
    {
     "name": "stdout",
     "output_type": "stream",
     "text": [
      "<class 'pandas.core.frame.DataFrame'>\n",
      "RangeIndex: 100 entries, 0 to 99\n",
      "Data columns (total 20 columns):\n",
      " #   Column                          Non-Null Count  Dtype \n",
      "---  ------                          --------------  ----- \n",
      " 0   Names                           100 non-null    object\n",
      " 1   Age                             100 non-null    object\n",
      " 2   Gender                          100 non-null    object\n",
      " 3   Mobile Phone                    100 non-null    object\n",
      " 4   Mobile Operating System         100 non-null    object\n",
      " 5   Mobile phone use for education  98 non-null     object\n",
      " 6   Mobile phone activities         99 non-null     object\n",
      " 7   Helpful for studying            98 non-null     object\n",
      " 8   Educational Apps                98 non-null     object\n",
      " 9   Daily usages                    99 non-null     object\n",
      " 10  Performance impact              98 non-null     object\n",
      " 11  Usage distraction               98 non-null     object\n",
      " 12  Attention span                  99 non-null     object\n",
      " 13  Useful features                 98 non-null     object\n",
      " 14  Health Risks                    98 non-null     object\n",
      " 15  Beneficial subject              99 non-null     object\n",
      " 16  Usage symptoms                  98 non-null     object\n",
      " 17  Symptom frequency               99 non-null     object\n",
      " 18  Health precautions              99 non-null     object\n",
      " 19  Health rating                   99 non-null     object\n",
      "dtypes: object(20)\n",
      "memory usage: 15.8+ KB\n"
     ]
    }
   ],
   "source": [
    "df.info()"
   ]
  },
  {
   "cell_type": "code",
   "execution_count": 5,
   "id": "603ac3f1-a392-4824-8249-aa7f0a7acd98",
   "metadata": {},
   "outputs": [
    {
     "data": {
      "text/plain": [
       "Names                             0\n",
       "Age                               0\n",
       "Gender                            0\n",
       "Mobile Phone                      0\n",
       "Mobile Operating System           0\n",
       "Mobile phone use for education    2\n",
       "Mobile phone activities           1\n",
       "Helpful for studying              2\n",
       "Educational Apps                  2\n",
       "Daily usages                      1\n",
       "Performance impact                2\n",
       "Usage distraction                 2\n",
       "Attention span                    1\n",
       "Useful features                   2\n",
       "Health Risks                      2\n",
       "Beneficial subject                1\n",
       "Usage symptoms                    2\n",
       "Symptom frequency                 1\n",
       "Health precautions                1\n",
       "Health rating                     1\n",
       "dtype: int64"
      ]
     },
     "execution_count": 5,
     "metadata": {},
     "output_type": "execute_result"
    }
   ],
   "source": [
    "df.isna().sum()  # so these are the columns where we have null datas"
   ]
  },
  {
   "cell_type": "code",
   "execution_count": 6,
   "id": "35da104e-e9df-4db6-8a0c-7cd5803ea2ff",
   "metadata": {
    "scrolled": true
   },
   "outputs": [
    {
     "data": {
      "text/html": [
       "<div>\n",
       "<style scoped>\n",
       "    .dataframe tbody tr th:only-of-type {\n",
       "        vertical-align: middle;\n",
       "    }\n",
       "\n",
       "    .dataframe tbody tr th {\n",
       "        vertical-align: top;\n",
       "    }\n",
       "\n",
       "    .dataframe thead th {\n",
       "        text-align: right;\n",
       "    }\n",
       "</style>\n",
       "<table border=\"1\" class=\"dataframe\">\n",
       "  <thead>\n",
       "    <tr style=\"text-align: right;\">\n",
       "      <th></th>\n",
       "      <th>Names</th>\n",
       "      <th>Age</th>\n",
       "      <th>Gender</th>\n",
       "      <th>Mobile Phone</th>\n",
       "      <th>Mobile Operating System</th>\n",
       "      <th>Mobile phone use for education</th>\n",
       "      <th>Mobile phone activities</th>\n",
       "      <th>Helpful for studying</th>\n",
       "      <th>Educational Apps</th>\n",
       "      <th>Daily usages</th>\n",
       "      <th>Performance impact</th>\n",
       "      <th>Usage distraction</th>\n",
       "      <th>Attention span</th>\n",
       "      <th>Useful features</th>\n",
       "      <th>Health Risks</th>\n",
       "      <th>Beneficial subject</th>\n",
       "      <th>Usage symptoms</th>\n",
       "      <th>Symptom frequency</th>\n",
       "      <th>Health precautions</th>\n",
       "      <th>Health rating</th>\n",
       "    </tr>\n",
       "  </thead>\n",
       "  <tbody>\n",
       "    <tr>\n",
       "      <th>0</th>\n",
       "      <td>Ali</td>\n",
       "      <td>21-25</td>\n",
       "      <td>Male</td>\n",
       "      <td>Yes</td>\n",
       "      <td>Android</td>\n",
       "      <td>Sometimes</td>\n",
       "      <td>Social Media</td>\n",
       "      <td>Yes</td>\n",
       "      <td>Educational Videos</td>\n",
       "      <td>4-6 hours</td>\n",
       "      <td>Agree</td>\n",
       "      <td>During Exams</td>\n",
       "      <td>Yes</td>\n",
       "      <td>Camera</td>\n",
       "      <td>Yes</td>\n",
       "      <td>Accounting</td>\n",
       "      <td>Headache</td>\n",
       "      <td>Never</td>\n",
       "      <td>Using Blue light filter</td>\n",
       "      <td>Excellent</td>\n",
       "    </tr>\n",
       "    <tr>\n",
       "      <th>1</th>\n",
       "      <td>Bilal</td>\n",
       "      <td>21-25</td>\n",
       "      <td>Male</td>\n",
       "      <td>Yes</td>\n",
       "      <td>Android</td>\n",
       "      <td>Sometimes</td>\n",
       "      <td>Social Media</td>\n",
       "      <td>Yes</td>\n",
       "      <td>Educational Videos</td>\n",
       "      <td>4-6 hours</td>\n",
       "      <td>Neutral</td>\n",
       "      <td>During Exams</td>\n",
       "      <td>Yes</td>\n",
       "      <td>Notes Taking App</td>\n",
       "      <td>Yes</td>\n",
       "      <td>Browsing Material</td>\n",
       "      <td>All of these</td>\n",
       "      <td>Sometimes</td>\n",
       "      <td>Taking Break during prolonged use</td>\n",
       "      <td>Good</td>\n",
       "    </tr>\n",
       "    <tr>\n",
       "      <th>2</th>\n",
       "      <td>Hammad</td>\n",
       "      <td>21-25</td>\n",
       "      <td>Male</td>\n",
       "      <td>Yes</td>\n",
       "      <td>IOS</td>\n",
       "      <td>Sometimes</td>\n",
       "      <td>All of these</td>\n",
       "      <td>Yes</td>\n",
       "      <td>Educational Videos</td>\n",
       "      <td>4-6 hours</td>\n",
       "      <td>Strongly agree</td>\n",
       "      <td>Not Distracting</td>\n",
       "      <td>No</td>\n",
       "      <td>Camera</td>\n",
       "      <td>Yes</td>\n",
       "      <td>Browsing Material</td>\n",
       "      <td>All of these</td>\n",
       "      <td>Sometimes</td>\n",
       "      <td>None of Above</td>\n",
       "      <td>Excellent</td>\n",
       "    </tr>\n",
       "    <tr>\n",
       "      <th>4</th>\n",
       "      <td>Waqar</td>\n",
       "      <td>21-25</td>\n",
       "      <td>Male</td>\n",
       "      <td>Yes</td>\n",
       "      <td>IOS</td>\n",
       "      <td>Frequently</td>\n",
       "      <td>All of these</td>\n",
       "      <td>Yes</td>\n",
       "      <td>Educational Videos</td>\n",
       "      <td>&gt; 6 hours</td>\n",
       "      <td>Agree</td>\n",
       "      <td>While Studying</td>\n",
       "      <td>Yes</td>\n",
       "      <td>Internet Access</td>\n",
       "      <td>No</td>\n",
       "      <td>Browsing Material</td>\n",
       "      <td>Sleep disturbance</td>\n",
       "      <td>Sometimes</td>\n",
       "      <td>None of Above</td>\n",
       "      <td>Excellent</td>\n",
       "    </tr>\n",
       "    <tr>\n",
       "      <th>5</th>\n",
       "      <td>Aammar</td>\n",
       "      <td>21-25</td>\n",
       "      <td>Male</td>\n",
       "      <td>Yes</td>\n",
       "      <td>Android</td>\n",
       "      <td>Rarely</td>\n",
       "      <td>All of these</td>\n",
       "      <td>Yes</td>\n",
       "      <td>Educational Videos</td>\n",
       "      <td>&gt; 6 hours</td>\n",
       "      <td>Neutral</td>\n",
       "      <td>Not Distracting</td>\n",
       "      <td>Yes</td>\n",
       "      <td>Internet Access</td>\n",
       "      <td>Only Partially</td>\n",
       "      <td>Reasarch</td>\n",
       "      <td>Headache</td>\n",
       "      <td>Sometimes</td>\n",
       "      <td>None of Above</td>\n",
       "      <td>Good</td>\n",
       "    </tr>\n",
       "    <tr>\n",
       "      <th>...</th>\n",
       "      <td>...</td>\n",
       "      <td>...</td>\n",
       "      <td>...</td>\n",
       "      <td>...</td>\n",
       "      <td>...</td>\n",
       "      <td>...</td>\n",
       "      <td>...</td>\n",
       "      <td>...</td>\n",
       "      <td>...</td>\n",
       "      <td>...</td>\n",
       "      <td>...</td>\n",
       "      <td>...</td>\n",
       "      <td>...</td>\n",
       "      <td>...</td>\n",
       "      <td>...</td>\n",
       "      <td>...</td>\n",
       "      <td>...</td>\n",
       "      <td>...</td>\n",
       "      <td>...</td>\n",
       "      <td>...</td>\n",
       "    </tr>\n",
       "    <tr>\n",
       "      <th>95</th>\n",
       "      <td>Zahoor</td>\n",
       "      <td>21-25</td>\n",
       "      <td>Male</td>\n",
       "      <td>Yes</td>\n",
       "      <td>IOS</td>\n",
       "      <td>Sometimes</td>\n",
       "      <td>All of these</td>\n",
       "      <td>Yes</td>\n",
       "      <td>Educational Videos</td>\n",
       "      <td>&gt; 6 hours</td>\n",
       "      <td>Agree</td>\n",
       "      <td>During Exams</td>\n",
       "      <td>Yes</td>\n",
       "      <td>Internet Access</td>\n",
       "      <td>Yes</td>\n",
       "      <td>Reasarch</td>\n",
       "      <td>Headache</td>\n",
       "      <td>Sometimes</td>\n",
       "      <td>Taking Break during prolonged use</td>\n",
       "      <td>Excellent</td>\n",
       "    </tr>\n",
       "    <tr>\n",
       "      <th>96</th>\n",
       "      <td>Hafeez</td>\n",
       "      <td>16-20</td>\n",
       "      <td>Male</td>\n",
       "      <td>Yes</td>\n",
       "      <td>Android</td>\n",
       "      <td>Sometimes</td>\n",
       "      <td>Social Media</td>\n",
       "      <td>Yes</td>\n",
       "      <td>Educational Videos</td>\n",
       "      <td>4-6 hours</td>\n",
       "      <td>Strongly agree</td>\n",
       "      <td>During Class Lectures</td>\n",
       "      <td>No</td>\n",
       "      <td>Notes Taking App</td>\n",
       "      <td>No</td>\n",
       "      <td>Reasarch</td>\n",
       "      <td>Anxiety or Stress</td>\n",
       "      <td>Sometimes</td>\n",
       "      <td>Taking Break during prolonged use</td>\n",
       "      <td>Good</td>\n",
       "    </tr>\n",
       "    <tr>\n",
       "      <th>97</th>\n",
       "      <td>Babar</td>\n",
       "      <td>16-20</td>\n",
       "      <td>Male</td>\n",
       "      <td>Yes</td>\n",
       "      <td>Android</td>\n",
       "      <td>Sometimes</td>\n",
       "      <td>All of these</td>\n",
       "      <td>Yes</td>\n",
       "      <td>Educational Videos</td>\n",
       "      <td>2-4 hours</td>\n",
       "      <td>Agree</td>\n",
       "      <td>While Studying</td>\n",
       "      <td>No</td>\n",
       "      <td>Internet Access</td>\n",
       "      <td>No</td>\n",
       "      <td>Reasarch</td>\n",
       "      <td>Headache</td>\n",
       "      <td>Never</td>\n",
       "      <td>Limiting Screen Time</td>\n",
       "      <td>Excellent</td>\n",
       "    </tr>\n",
       "    <tr>\n",
       "      <th>98</th>\n",
       "      <td>Rizwan</td>\n",
       "      <td>16-20</td>\n",
       "      <td>Male</td>\n",
       "      <td>Yes</td>\n",
       "      <td>Android</td>\n",
       "      <td>Sometimes</td>\n",
       "      <td>All of these</td>\n",
       "      <td>Yes</td>\n",
       "      <td>Educational Videos</td>\n",
       "      <td>4-6 hours</td>\n",
       "      <td>Agree</td>\n",
       "      <td>During Exams</td>\n",
       "      <td>No</td>\n",
       "      <td>Internet Access</td>\n",
       "      <td>Yes</td>\n",
       "      <td>Reasarch</td>\n",
       "      <td>Headache</td>\n",
       "      <td>Rarely</td>\n",
       "      <td>Limiting Screen Time</td>\n",
       "      <td>Excellent;Good</td>\n",
       "    </tr>\n",
       "    <tr>\n",
       "      <th>99</th>\n",
       "      <td>Lubna</td>\n",
       "      <td>21-25</td>\n",
       "      <td>Female</td>\n",
       "      <td>Yes</td>\n",
       "      <td>Android</td>\n",
       "      <td>Sometimes</td>\n",
       "      <td>Social Media</td>\n",
       "      <td>Yes</td>\n",
       "      <td>Study Planner</td>\n",
       "      <td>4-6 hours</td>\n",
       "      <td>Neutral</td>\n",
       "      <td>During Exams</td>\n",
       "      <td>Yes</td>\n",
       "      <td>Internet Access</td>\n",
       "      <td>Only Partially</td>\n",
       "      <td>Browsing Material</td>\n",
       "      <td>Sleep disturbance</td>\n",
       "      <td>Sometimes</td>\n",
       "      <td>Limiting Screen Time</td>\n",
       "      <td>Excellent</td>\n",
       "    </tr>\n",
       "  </tbody>\n",
       "</table>\n",
       "<p>91 rows × 20 columns</p>\n",
       "</div>"
      ],
      "text/plain": [
       "     Names    Age Gender  Mobile Phone  Mobile Operating System   \\\n",
       "0      Ali  21-25    Male           Yes                  Android   \n",
       "1    Bilal  21-25    Male           Yes                  Android   \n",
       "2   Hammad  21-25    Male           Yes                      IOS   \n",
       "4    Waqar  21-25    Male           Yes                      IOS   \n",
       "5   Aammar  21-25    Male           Yes                  Android   \n",
       "..     ...    ...     ...           ...                      ...   \n",
       "95  Zahoor  21-25    Male           Yes                      IOS   \n",
       "96  Hafeez  16-20    Male           Yes                  Android   \n",
       "97   Babar  16-20    Male           Yes                  Android   \n",
       "98  Rizwan  16-20    Male           Yes                  Android   \n",
       "99   Lubna  21-25  Female           Yes                  Android   \n",
       "\n",
       "   Mobile phone use for education Mobile phone activities  \\\n",
       "0                       Sometimes            Social Media   \n",
       "1                       Sometimes            Social Media   \n",
       "2                       Sometimes            All of these   \n",
       "4                      Frequently            All of these   \n",
       "5                          Rarely            All of these   \n",
       "..                            ...                     ...   \n",
       "95                      Sometimes            All of these   \n",
       "96                      Sometimes            Social Media   \n",
       "97                      Sometimes            All of these   \n",
       "98                      Sometimes            All of these   \n",
       "99                      Sometimes            Social Media   \n",
       "\n",
       "   Helpful for studying    Educational Apps Daily usages Performance impact  \\\n",
       "0                   Yes  Educational Videos    4-6 hours              Agree   \n",
       "1                   Yes  Educational Videos    4-6 hours            Neutral   \n",
       "2                   Yes  Educational Videos    4-6 hours     Strongly agree   \n",
       "4                   Yes  Educational Videos    > 6 hours              Agree   \n",
       "5                   Yes  Educational Videos    > 6 hours            Neutral   \n",
       "..                  ...                 ...          ...                ...   \n",
       "95                  Yes  Educational Videos    > 6 hours              Agree   \n",
       "96                  Yes  Educational Videos    4-6 hours     Strongly agree   \n",
       "97                  Yes  Educational Videos    2-4 hours              Agree   \n",
       "98                  Yes  Educational Videos    4-6 hours              Agree   \n",
       "99                  Yes       Study Planner    4-6 hours            Neutral   \n",
       "\n",
       "        Usage distraction Attention span   Useful features    Health Risks  \\\n",
       "0            During Exams            Yes            Camera             Yes   \n",
       "1            During Exams            Yes  Notes Taking App             Yes   \n",
       "2         Not Distracting             No            Camera             Yes   \n",
       "4          While Studying            Yes   Internet Access              No   \n",
       "5         Not Distracting            Yes   Internet Access  Only Partially   \n",
       "..                    ...            ...               ...             ...   \n",
       "95           During Exams            Yes   Internet Access             Yes   \n",
       "96  During Class Lectures             No  Notes Taking App              No   \n",
       "97         While Studying             No   Internet Access              No   \n",
       "98           During Exams             No   Internet Access             Yes   \n",
       "99           During Exams            Yes   Internet Access  Only Partially   \n",
       "\n",
       "   Beneficial subject     Usage symptoms Symptom frequency  \\\n",
       "0          Accounting           Headache             Never   \n",
       "1   Browsing Material       All of these         Sometimes   \n",
       "2   Browsing Material       All of these         Sometimes   \n",
       "4   Browsing Material  Sleep disturbance         Sometimes   \n",
       "5            Reasarch           Headache         Sometimes   \n",
       "..                ...                ...               ...   \n",
       "95           Reasarch           Headache         Sometimes   \n",
       "96           Reasarch  Anxiety or Stress         Sometimes   \n",
       "97           Reasarch           Headache             Never   \n",
       "98           Reasarch           Headache            Rarely   \n",
       "99  Browsing Material  Sleep disturbance         Sometimes   \n",
       "\n",
       "                   Health precautions   Health rating  \n",
       "0             Using Blue light filter       Excellent  \n",
       "1   Taking Break during prolonged use            Good  \n",
       "2                       None of Above       Excellent  \n",
       "4                       None of Above       Excellent  \n",
       "5                       None of Above            Good  \n",
       "..                                ...             ...  \n",
       "95  Taking Break during prolonged use       Excellent  \n",
       "96  Taking Break during prolonged use            Good  \n",
       "97               Limiting Screen Time       Excellent  \n",
       "98               Limiting Screen Time  Excellent;Good  \n",
       "99               Limiting Screen Time       Excellent  \n",
       "\n",
       "[91 rows x 20 columns]"
      ]
     },
     "execution_count": 6,
     "metadata": {},
     "output_type": "execute_result"
    }
   ],
   "source": [
    "df.dropna()"
   ]
  },
  {
   "cell_type": "code",
   "execution_count": 7,
   "id": "4826be39-24b1-45f6-8517-be47c809c787",
   "metadata": {},
   "outputs": [
    {
     "data": {
      "text/plain": [
       "Names                             0\n",
       "Age                               0\n",
       "Gender                            0\n",
       "Mobile Phone                      0\n",
       "Mobile Operating System           0\n",
       "Mobile phone use for education    2\n",
       "Mobile phone activities           1\n",
       "Helpful for studying              2\n",
       "Educational Apps                  2\n",
       "Daily usages                      1\n",
       "Performance impact                2\n",
       "Usage distraction                 2\n",
       "Attention span                    1\n",
       "Useful features                   2\n",
       "Health Risks                      2\n",
       "Beneficial subject                1\n",
       "Usage symptoms                    2\n",
       "Symptom frequency                 1\n",
       "Health precautions                1\n",
       "Health rating                     1\n",
       "dtype: int64"
      ]
     },
     "execution_count": 7,
     "metadata": {},
     "output_type": "execute_result"
    }
   ],
   "source": [
    "df.isna().sum()"
   ]
  },
  {
   "cell_type": "code",
   "execution_count": 8,
   "id": "0e3ea565-932b-4519-93ea-4732e85eb202",
   "metadata": {},
   "outputs": [
    {
     "data": {
      "text/plain": [
       "array(['Male', 'Female'], dtype=object)"
      ]
     },
     "execution_count": 8,
     "metadata": {},
     "output_type": "execute_result"
    }
   ],
   "source": [
    "df['Gender '].unique()"
   ]
  },
  {
   "cell_type": "code",
   "execution_count": 9,
   "id": "e100d582-66cc-49f5-87a2-561159e13037",
   "metadata": {},
   "outputs": [
    {
     "data": {
      "text/plain": [
       "'Yes'"
      ]
     },
     "execution_count": 9,
     "metadata": {},
     "output_type": "execute_result"
    }
   ],
   "source": [
    "df['Mobile Phone '].unique().sum()"
   ]
  },
  {
   "cell_type": "code",
   "execution_count": 10,
   "id": "77c73ff5-7074-4d31-ba8f-96900a91f4b3",
   "metadata": {},
   "outputs": [
    {
     "data": {
      "text/plain": [
       "array(['Android', 'IOS'], dtype=object)"
      ]
     },
     "execution_count": 10,
     "metadata": {},
     "output_type": "execute_result"
    }
   ],
   "source": [
    "df['Mobile Operating System '].unique()"
   ]
  },
  {
   "cell_type": "code",
   "execution_count": 11,
   "id": "4565ed38-c8f6-451f-88e0-cda42aac0529",
   "metadata": {},
   "outputs": [
    {
     "data": {
      "text/plain": [
       "array(['Sometimes', 'Frequently', 'Rarely', 'Never', nan], dtype=object)"
      ]
     },
     "execution_count": 11,
     "metadata": {},
     "output_type": "execute_result"
    }
   ],
   "source": [
    "df['Mobile phone use for education'].unique()"
   ]
  },
  {
   "cell_type": "code",
   "execution_count": 12,
   "id": "76d3a40c-26a9-4286-a134-498fb83c9a8e",
   "metadata": {},
   "outputs": [
    {
     "data": {
      "text/plain": [
       "array(['Social Media', 'All of these', 'Social Media;All of these',\n",
       "       'Web-browsing', 'Social Media;Web-browsing;Messaging;All of these',\n",
       "       nan, 'Messaging', 'Social Media;Messaging'], dtype=object)"
      ]
     },
     "execution_count": 12,
     "metadata": {},
     "output_type": "execute_result"
    }
   ],
   "source": [
    "df['Mobile phone activities'].unique()"
   ]
  },
  {
   "cell_type": "code",
   "execution_count": 13,
   "id": "8f6073ca-1a97-41cf-a91d-f2fefeda548b",
   "metadata": {},
   "outputs": [
    {
     "data": {
      "text/plain": [
       "array(['Yes', 'No', nan], dtype=object)"
      ]
     },
     "execution_count": 13,
     "metadata": {},
     "output_type": "execute_result"
    }
   ],
   "source": [
    "df['Helpful for studying'].unique() # yes no type"
   ]
  },
  {
   "cell_type": "code",
   "execution_count": 14,
   "id": "ad30d7a6-2196-426e-a8e0-b4a8ce3bf0fc",
   "metadata": {},
   "outputs": [
    {
     "data": {
      "text/plain": [
       "array(['Educational Videos', 'Study Planner', 'Productivity Tools',\n",
       "       'Language', nan], dtype=object)"
      ]
     },
     "execution_count": 14,
     "metadata": {},
     "output_type": "execute_result"
    }
   ],
   "source": [
    "df['Educational Apps'].unique() # 4 category"
   ]
  },
  {
   "cell_type": "code",
   "execution_count": 15,
   "id": "11294f5d-19fb-4583-a437-609d45566500",
   "metadata": {},
   "outputs": [
    {
     "data": {
      "text/plain": [
       "array(['4-6 hours', '2-4 hours', '> 6 hours', '< 2 hours', nan],\n",
       "      dtype=object)"
      ]
     },
     "execution_count": 15,
     "metadata": {},
     "output_type": "execute_result"
    }
   ],
   "source": [
    "df['Daily usages'].unique()"
   ]
  },
  {
   "cell_type": "code",
   "execution_count": 16,
   "id": "a4ce5613-39bf-496e-85ad-60c541f44dc7",
   "metadata": {},
   "outputs": [
    {
     "data": {
      "text/plain": [
       "array(['Agree', 'Neutral', 'Strongly agree', 'Strongly disagree',\n",
       "       'Disagree', nan], dtype=object)"
      ]
     },
     "execution_count": 16,
     "metadata": {},
     "output_type": "execute_result"
    }
   ],
   "source": [
    "df['Performance impact'].unique() # 3 cate"
   ]
  },
  {
   "cell_type": "code",
   "execution_count": 17,
   "id": "de13b340-7f9e-4b87-b874-4c3d0ebfbbbc",
   "metadata": {},
   "outputs": [
    {
     "data": {
      "text/plain": [
       "array(['During Exams', 'Not Distracting', 'During Class Lectures',\n",
       "       'While Studying', nan], dtype=object)"
      ]
     },
     "execution_count": 17,
     "metadata": {},
     "output_type": "execute_result"
    }
   ],
   "source": [
    "df['Usage distraction'].unique() # 4 category"
   ]
  },
  {
   "cell_type": "code",
   "execution_count": 18,
   "id": "286395e6-e5b9-4a31-9373-88ae292b25ab",
   "metadata": {},
   "outputs": [
    {
     "data": {
      "text/plain": [
       "array(['Yes', 'No', nan], dtype=object)"
      ]
     },
     "execution_count": 18,
     "metadata": {},
     "output_type": "execute_result"
    }
   ],
   "source": [
    "df['Attention span'].unique() # yes no type"
   ]
  },
  {
   "cell_type": "code",
   "execution_count": 19,
   "id": "42901ad2-5c6a-4703-bef6-6aa002a51bc6",
   "metadata": {},
   "outputs": [
    {
     "data": {
      "text/plain": [
       "array(['Camera', 'Notes Taking App', 'Internet Access', 'Calculator', nan],\n",
       "      dtype=object)"
      ]
     },
     "execution_count": 19,
     "metadata": {},
     "output_type": "execute_result"
    }
   ],
   "source": [
    "df['Useful features'].unique() # 4 category"
   ]
  },
  {
   "cell_type": "code",
   "execution_count": 20,
   "id": "f3e59e18-0e7e-4da9-af71-bfcdf9c12073",
   "metadata": {},
   "outputs": [
    {
     "data": {
      "text/plain": [
       "array(['Yes', 'Only Partially', 'No', nan], dtype=object)"
      ]
     },
     "execution_count": 20,
     "metadata": {},
     "output_type": "execute_result"
    }
   ],
   "source": [
    "df['Health Risks'].unique() # 3 category"
   ]
  },
  {
   "cell_type": "code",
   "execution_count": 21,
   "id": "417d398e-b13f-4702-857e-512f8dee4fd6",
   "metadata": {},
   "outputs": [
    {
     "data": {
      "text/plain": [
       "array(['Accounting', 'Browsing Material', 'Reasarch', nan], dtype=object)"
      ]
     },
     "execution_count": 21,
     "metadata": {},
     "output_type": "execute_result"
    }
   ],
   "source": [
    "df['Beneficial subject'].unique() # 3 category"
   ]
  },
  {
   "cell_type": "code",
   "execution_count": 22,
   "id": "7bdd875a-9066-4fd1-a56c-230ad3310dc5",
   "metadata": {},
   "outputs": [
    {
     "data": {
      "text/plain": [
       "array(['Headache', 'All of these', nan, 'Sleep disturbance',\n",
       "       'Anxiety or Stress', 'Sleep disturbance;Anxiety or Stress',\n",
       "       'Headache;Sleep disturbance;Anxiety or Stress;All of these'],\n",
       "      dtype=object)"
      ]
     },
     "execution_count": 22,
     "metadata": {},
     "output_type": "execute_result"
    }
   ],
   "source": [
    "df['Usage symptoms'].unique() # 5 category"
   ]
  },
  {
   "cell_type": "code",
   "execution_count": 23,
   "id": "5a2bf08c-ad69-44b8-9651-b46a01981936",
   "metadata": {},
   "outputs": [
    {
     "data": {
      "text/plain": [
       "array(['Never', 'Sometimes', 'Frequently', 'Rarely', nan], dtype=object)"
      ]
     },
     "execution_count": 23,
     "metadata": {},
     "output_type": "execute_result"
    }
   ],
   "source": [
    "df['Symptom frequency'].unique() # 4 Category"
   ]
  },
  {
   "cell_type": "code",
   "execution_count": 24,
   "id": "93e283f7-3ec7-440f-80f2-e75a06e94610",
   "metadata": {},
   "outputs": [
    {
     "data": {
      "text/plain": [
       "array(['Using Blue light filter', 'Taking Break during prolonged use',\n",
       "       'None of Above', 'Limiting Screen Time', nan], dtype=object)"
      ]
     },
     "execution_count": 24,
     "metadata": {},
     "output_type": "execute_result"
    }
   ],
   "source": [
    "df['Health precautions'].unique() # 4 category"
   ]
  },
  {
   "cell_type": "code",
   "execution_count": 25,
   "id": "ae662ae9-5b90-4cb9-95ff-3a93d5b32169",
   "metadata": {},
   "outputs": [
    {
     "data": {
      "text/plain": [
       "array(['Excellent', 'Good', 'Fair', 'Good;Fair', 'Excellent;Good', 'Poor',\n",
       "       nan, 'Excellent;Good;Fair;Poor'], dtype=object)"
      ]
     },
     "execution_count": 25,
     "metadata": {},
     "output_type": "execute_result"
    }
   ],
   "source": [
    "df['Health rating'].unique()  #5 category"
   ]
  },
  {
   "cell_type": "markdown",
   "id": "0220aef2-a05d-4f8f-9a4b-62abb03efe26",
   "metadata": {},
   "source": [
    "# So by looking at the data , we Clearly see that this a catgogical and logistic regression problem "
   ]
  },
  {
   "cell_type": "raw",
   "id": "6418dfcb-a521-4dd4-a873-8ed17a3c3df1",
   "metadata": {},
   "source": [
    "# Steps to do \n",
    "\n",
    "0 Handle missing data\n",
    "1 do encoding one by one\n",
    "2 do label encoding for health rateing\n",
    "3 do odinal encoding in "
   ]
  },
  {
   "cell_type": "markdown",
   "id": "f27cd4c6-87c2-4da8-9e3a-641c8e33deec",
   "metadata": {
    "jp-MarkdownHeadingCollapsed": true
   },
   "source": [
    "# for checking if we drop null value"
   ]
  },
  {
   "cell_type": "code",
   "execution_count": 27,
   "id": "ca7ecdf1-9e5b-44ad-878b-2427cf26fe22",
   "metadata": {},
   "outputs": [
    {
     "data": {
      "text/plain": [
       "Names                             0.0\n",
       "Age                               0.0\n",
       "Gender                            0.0\n",
       "Mobile Phone                      0.0\n",
       "Mobile Operating System           0.0\n",
       "Mobile phone use for education    2.0\n",
       "Mobile phone activities           1.0\n",
       "Helpful for studying              2.0\n",
       "Educational Apps                  2.0\n",
       "Daily usages                      1.0\n",
       "Performance impact                2.0\n",
       "Usage distraction                 2.0\n",
       "Attention span                    1.0\n",
       "Useful features                   2.0\n",
       "Health Risks                      2.0\n",
       "Beneficial subject                1.0\n",
       "Usage symptoms                    2.0\n",
       "Symptom frequency                 1.0\n",
       "Health precautions                1.0\n",
       "Health rating                     1.0\n",
       "dtype: float64"
      ]
     },
     "execution_count": 27,
     "metadata": {},
     "output_type": "execute_result"
    }
   ],
   "source": [
    "df.isnull().mean()*100   # this show that therer is less than 5 % data is missing \n",
    "# so if we drop them it will not effect our dataset"
   ]
  },
  {
   "cell_type": "code",
   "execution_count": 29,
   "id": "397c165d-fb21-4c39-a351-c6bf40d66a43",
   "metadata": {},
   "outputs": [
    {
     "data": {
      "text/plain": [
       "['Mobile phone use for education',\n",
       " 'Mobile phone activities',\n",
       " 'Helpful for studying',\n",
       " 'Educational Apps',\n",
       " 'Daily usages',\n",
       " 'Performance impact',\n",
       " 'Usage distraction',\n",
       " 'Attention span',\n",
       " 'Useful features',\n",
       " 'Health Risks',\n",
       " 'Beneficial subject',\n",
       " 'Usage symptoms',\n",
       " 'Symptom frequency',\n",
       " 'Health precautions',\n",
       " 'Health rating']"
      ]
     },
     "execution_count": 29,
     "metadata": {},
     "output_type": "execute_result"
    }
   ],
   "source": [
    "cols =[var for var in df.columns if df[var].isnull().mean() < 0.05 and df[var].isnull().mean() > 0]\n",
    "cols"
   ]
  },
  {
   "cell_type": "code",
   "execution_count": 32,
   "id": "dbdefea4-c039-4834-807a-5f2a3edea9a1",
   "metadata": {},
   "outputs": [
    {
     "data": {
      "text/html": [
       "<div>\n",
       "<style scoped>\n",
       "    .dataframe tbody tr th:only-of-type {\n",
       "        vertical-align: middle;\n",
       "    }\n",
       "\n",
       "    .dataframe tbody tr th {\n",
       "        vertical-align: top;\n",
       "    }\n",
       "\n",
       "    .dataframe thead th {\n",
       "        text-align: right;\n",
       "    }\n",
       "</style>\n",
       "<table border=\"1\" class=\"dataframe\">\n",
       "  <thead>\n",
       "    <tr style=\"text-align: right;\">\n",
       "      <th></th>\n",
       "      <th>Mobile phone use for education</th>\n",
       "      <th>Mobile phone activities</th>\n",
       "      <th>Helpful for studying</th>\n",
       "      <th>Educational Apps</th>\n",
       "      <th>Daily usages</th>\n",
       "      <th>Performance impact</th>\n",
       "      <th>Usage distraction</th>\n",
       "      <th>Attention span</th>\n",
       "      <th>Useful features</th>\n",
       "      <th>Health Risks</th>\n",
       "      <th>Beneficial subject</th>\n",
       "      <th>Usage symptoms</th>\n",
       "      <th>Symptom frequency</th>\n",
       "      <th>Health precautions</th>\n",
       "      <th>Health rating</th>\n",
       "    </tr>\n",
       "  </thead>\n",
       "  <tbody>\n",
       "    <tr>\n",
       "      <th>0</th>\n",
       "      <td>Sometimes</td>\n",
       "      <td>Social Media</td>\n",
       "      <td>Yes</td>\n",
       "      <td>Educational Videos</td>\n",
       "      <td>4-6 hours</td>\n",
       "      <td>Agree</td>\n",
       "      <td>During Exams</td>\n",
       "      <td>Yes</td>\n",
       "      <td>Camera</td>\n",
       "      <td>Yes</td>\n",
       "      <td>Accounting</td>\n",
       "      <td>Headache</td>\n",
       "      <td>Never</td>\n",
       "      <td>Using Blue light filter</td>\n",
       "      <td>Excellent</td>\n",
       "    </tr>\n",
       "    <tr>\n",
       "      <th>1</th>\n",
       "      <td>Sometimes</td>\n",
       "      <td>Social Media</td>\n",
       "      <td>Yes</td>\n",
       "      <td>Educational Videos</td>\n",
       "      <td>4-6 hours</td>\n",
       "      <td>Neutral</td>\n",
       "      <td>During Exams</td>\n",
       "      <td>Yes</td>\n",
       "      <td>Notes Taking App</td>\n",
       "      <td>Yes</td>\n",
       "      <td>Browsing Material</td>\n",
       "      <td>All of these</td>\n",
       "      <td>Sometimes</td>\n",
       "      <td>Taking Break during prolonged use</td>\n",
       "      <td>Good</td>\n",
       "    </tr>\n",
       "    <tr>\n",
       "      <th>2</th>\n",
       "      <td>Sometimes</td>\n",
       "      <td>All of these</td>\n",
       "      <td>Yes</td>\n",
       "      <td>Educational Videos</td>\n",
       "      <td>4-6 hours</td>\n",
       "      <td>Strongly agree</td>\n",
       "      <td>Not Distracting</td>\n",
       "      <td>No</td>\n",
       "      <td>Camera</td>\n",
       "      <td>Yes</td>\n",
       "      <td>Browsing Material</td>\n",
       "      <td>All of these</td>\n",
       "      <td>Sometimes</td>\n",
       "      <td>None of Above</td>\n",
       "      <td>Excellent</td>\n",
       "    </tr>\n",
       "    <tr>\n",
       "      <th>3</th>\n",
       "      <td>Frequently</td>\n",
       "      <td>All of these</td>\n",
       "      <td>Yes</td>\n",
       "      <td>Educational Videos</td>\n",
       "      <td>2-4 hours</td>\n",
       "      <td>Strongly agree</td>\n",
       "      <td>During Class Lectures</td>\n",
       "      <td>No</td>\n",
       "      <td>Internet Access</td>\n",
       "      <td>Only Partially</td>\n",
       "      <td>Reasarch</td>\n",
       "      <td>NaN</td>\n",
       "      <td>Never</td>\n",
       "      <td>Limiting Screen Time</td>\n",
       "      <td>Excellent</td>\n",
       "    </tr>\n",
       "    <tr>\n",
       "      <th>4</th>\n",
       "      <td>Frequently</td>\n",
       "      <td>All of these</td>\n",
       "      <td>Yes</td>\n",
       "      <td>Educational Videos</td>\n",
       "      <td>&gt; 6 hours</td>\n",
       "      <td>Agree</td>\n",
       "      <td>While Studying</td>\n",
       "      <td>Yes</td>\n",
       "      <td>Internet Access</td>\n",
       "      <td>No</td>\n",
       "      <td>Browsing Material</td>\n",
       "      <td>Sleep disturbance</td>\n",
       "      <td>Sometimes</td>\n",
       "      <td>None of Above</td>\n",
       "      <td>Excellent</td>\n",
       "    </tr>\n",
       "  </tbody>\n",
       "</table>\n",
       "</div>"
      ],
      "text/plain": [
       "  Mobile phone use for education Mobile phone activities Helpful for studying  \\\n",
       "0                      Sometimes            Social Media                  Yes   \n",
       "1                      Sometimes            Social Media                  Yes   \n",
       "2                      Sometimes            All of these                  Yes   \n",
       "3                     Frequently            All of these                  Yes   \n",
       "4                     Frequently            All of these                  Yes   \n",
       "\n",
       "     Educational Apps Daily usages Performance impact      Usage distraction  \\\n",
       "0  Educational Videos    4-6 hours              Agree           During Exams   \n",
       "1  Educational Videos    4-6 hours            Neutral           During Exams   \n",
       "2  Educational Videos    4-6 hours     Strongly agree        Not Distracting   \n",
       "3  Educational Videos    2-4 hours     Strongly agree  During Class Lectures   \n",
       "4  Educational Videos    > 6 hours              Agree         While Studying   \n",
       "\n",
       "  Attention span   Useful features    Health Risks Beneficial subject  \\\n",
       "0            Yes            Camera             Yes         Accounting   \n",
       "1            Yes  Notes Taking App             Yes  Browsing Material   \n",
       "2             No            Camera             Yes  Browsing Material   \n",
       "3             No   Internet Access  Only Partially           Reasarch   \n",
       "4            Yes   Internet Access              No  Browsing Material   \n",
       "\n",
       "      Usage symptoms Symptom frequency                 Health precautions  \\\n",
       "0           Headache             Never            Using Blue light filter   \n",
       "1       All of these         Sometimes  Taking Break during prolonged use   \n",
       "2       All of these         Sometimes                      None of Above   \n",
       "3                NaN             Never               Limiting Screen Time   \n",
       "4  Sleep disturbance         Sometimes                      None of Above   \n",
       "\n",
       "  Health rating  \n",
       "0     Excellent  \n",
       "1          Good  \n",
       "2     Excellent  \n",
       "3     Excellent  \n",
       "4     Excellent  "
      ]
     },
     "execution_count": 32,
     "metadata": {},
     "output_type": "execute_result"
    }
   ],
   "source": [
    "df[cols].head()"
   ]
  },
  {
   "cell_type": "code",
   "execution_count": 34,
   "id": "a9c41f74-dcb9-4b4a-bc9b-85f29ea7cf58",
   "metadata": {},
   "outputs": [
    {
     "data": {
      "text/plain": [
       "0.91"
      ]
     },
     "execution_count": 34,
     "metadata": {},
     "output_type": "execute_result"
    }
   ],
   "source": [
    "len(df[cols].dropna()) / len(df)  # this show id we drop nan data we will still have 91 percent data"
   ]
  },
  {
   "cell_type": "code",
   "execution_count": 35,
   "id": "50fb7461-4229-4b75-9b6c-fd2307e2351e",
   "metadata": {},
   "outputs": [],
   "source": [
    "new_df = df[cols].dropna()"
   ]
  },
  {
   "cell_type": "code",
   "execution_count": 36,
   "id": "ccfc3fb4-9608-4dbb-b045-cce05da37e7b",
   "metadata": {},
   "outputs": [
    {
     "data": {
      "text/plain": [
       "((100, 20), (91, 15))"
      ]
     },
     "execution_count": 36,
     "metadata": {},
     "output_type": "execute_result"
    }
   ],
   "source": [
    "df.shape, new_df.shape"
   ]
  },
  {
   "cell_type": "code",
   "execution_count": 39,
   "id": "b16dd1b7-a348-4610-a16a-4161138ff2b6",
   "metadata": {},
   "outputs": [
    {
     "data": {
      "text/plain": [
       "Mobile phone use for education    0\n",
       "Mobile phone activities           0\n",
       "Helpful for studying              0\n",
       "Educational Apps                  0\n",
       "Daily usages                      0\n",
       "Performance impact                0\n",
       "Usage distraction                 0\n",
       "Attention span                    0\n",
       "Useful features                   0\n",
       "Health Risks                      0\n",
       "Beneficial subject                0\n",
       "Usage symptoms                    0\n",
       "Symptom frequency                 0\n",
       "Health precautions                0\n",
       "Health rating                     0\n",
       "dtype: int64"
      ]
     },
     "execution_count": 39,
     "metadata": {},
     "output_type": "execute_result"
    }
   ],
   "source": [
    "new_df.isna().sum()"
   ]
  },
  {
   "cell_type": "markdown",
   "id": "1403bc81-90d0-42a1-8af8-d60c563f334d",
   "metadata": {},
   "source": [
    "# filling null values"
   ]
  },
  {
   "cell_type": "code",
   "execution_count": null,
   "id": "07657f60-aad4-484c-8334-9b046de866a3",
   "metadata": {},
   "outputs": [],
   "source": []
  },
  {
   "cell_type": "code",
   "execution_count": null,
   "id": "a66b4071-0381-4327-877e-e7f56f29fe33",
   "metadata": {},
   "outputs": [],
   "source": []
  },
  {
   "cell_type": "code",
   "execution_count": null,
   "id": "5e00b365-edc4-468f-8e5d-31688e4bc9c1",
   "metadata": {},
   "outputs": [],
   "source": []
  }
 ],
 "metadata": {
  "kernelspec": {
   "display_name": "Python 3 (ipykernel)",
   "language": "python",
   "name": "python3"
  },
  "language_info": {
   "codemirror_mode": {
    "name": "ipython",
    "version": 3
   },
   "file_extension": ".py",
   "mimetype": "text/x-python",
   "name": "python",
   "nbconvert_exporter": "python",
   "pygments_lexer": "ipython3",
   "version": "3.12.4"
  }
 },
 "nbformat": 4,
 "nbformat_minor": 5
}
